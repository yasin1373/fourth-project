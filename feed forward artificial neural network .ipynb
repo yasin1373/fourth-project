{
 "cells": [
  {
   "cell_type": "code",
   "execution_count": null,
   "id": "7949c355",
   "metadata": {},
   "outputs": [],
   "source": [
    "import numpy\n",
    "import pandas as pd\n",
    "from keras.models import Sequential\n",
    "from keras.layers import Dense\n",
    "import scikeras\n",
    "from scikeras.wrappers import KerasRegressor\n",
    "from sklearn.model_selection import cross_val_score\n",
    "from sklearn.model_selection import KFold\n",
    "from sklearn.preprocessing import StandardScaler\n",
    "from sklearn.pipeline import Pipeline\n",
    "# load dataset\n",
    "path=r\"C:\\Users\\acer\\Desktop\\Data\\edited.squat.csv\"\n",
    "dataframe=pd.read_csv(path,low_memory=False)\n",
    "emgdata=dataframe.iloc[0:,364:380]\n",
    "indata=dataframe.iloc[0:,[380,381,382,383]]\n",
    "new = pd.concat([edata, indata], axis=1)\n",
    "new_edited=new.dropna(subset=[' prosthesis data','Unnamed: 381','Unnamed: 382','Unnamed: 383']).reset_index(drop=True)\n",
    "new_edited=new_edited.drop([0,1]).reset_index(drop=True)\n",
    "dataset=new_edited.values\n",
    "X = dataset[:,0:16].astype('float')\n",
    "Y = dataset[:,16:].astype('float')\n",
    "# define base model\n",
    "def baseline_model():\n",
    "\n",
    "  model = Sequential()\n",
    "  model.add(Dense(16, input_dim=16  ,activation= 'relu' ))\n",
    "  model.add(Dense(4))\n",
    "  model.compile(loss= 'mean_squared_error' , optimizer= 'adam' )\n",
    "  return model\n",
    "# fix random seed for reproducibility\n",
    "seed = 7\n",
    "numpy.random.seed(seed)\n",
    "# evaluate model with standardized dataset\n",
    "estimator =KerasRegressor(model=baseline_model, epochs=100, batch_size=5, verbose=0)\n",
    "kfold = KFold(n_splits=10, random_state=seed,shuffle=True)\n",
    "results = cross_val_score(estimator, X, Y, cv=kfold)\n",
    "\"Baseline: %.2f (%.2f) MSE\" % (results.mean(), results.std())"
   ]
  }
 ],
 "metadata": {
  "kernelspec": {
   "display_name": "Python 3 (ipykernel)",
   "language": "python",
   "name": "python3"
  },
  "language_info": {
   "codemirror_mode": {
    "name": "ipython",
    "version": 3
   },
   "file_extension": ".py",
   "mimetype": "text/x-python",
   "name": "python",
   "nbconvert_exporter": "python",
   "pygments_lexer": "ipython3",
   "version": "3.9.12"
  }
 },
 "nbformat": 4,
 "nbformat_minor": 5
}
